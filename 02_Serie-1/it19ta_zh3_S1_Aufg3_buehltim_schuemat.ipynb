{
 "cells": [
  {
   "cell_type": "markdown",
   "metadata": {},
   "source": [
    "Rekursive berechnete Fakultät"
   ]
  },
  {
   "cell_type": "code",
   "execution_count": 14,
   "metadata": {},
   "outputs": [
    {
     "data": {
      "text/plain": [
       "3628800"
      ]
     },
     "execution_count": 14,
     "metadata": {},
     "output_type": "execute_result"
    }
   ],
   "source": [
    "import numpy as np\n",
    "\n",
    "# y = fact_rec(n) berechnet die Fakultät von n als fact_rec(n) = n * fact_rec(n - 1) mit fact_rec(0) = 1\n",
    "# Fehler, falls n < 0 oder nicht ganzzahlig\n",
    "def fact_rec(n):\n",
    "    if (n < 0 or np.trunc(n) != n):\n",
    "        raise Excelption('The factorial is defined only for positive integers')\n",
    "    if (n <= 1):\n",
    "        return 1\n",
    "    else:\n",
    "        return n * fact_rec(n - 1)\n",
    "    \n",
    "fact_rec(3)\n",
    "fact_rec(10)"
   ]
  },
  {
   "cell_type": "markdown",
   "metadata": {},
   "source": [
    "Mit for-loop berechnete Fakultät"
   ]
  },
  {
   "cell_type": "code",
   "execution_count": 15,
   "metadata": {},
   "outputs": [
    {
     "data": {
      "text/plain": [
       "3628800"
      ]
     },
     "execution_count": 15,
     "metadata": {},
     "output_type": "execute_result"
    }
   ],
   "source": [
    "def fact_loop(n):\n",
    "    if (n < 0 or np.trunc(n) != n):\n",
    "        raise Excelption('The factorial is defined only for positive integers')\n",
    "    if (n <= 1):\n",
    "        return 1\n",
    "    else:\n",
    "        result = 1\n",
    "        for x in range(n):\n",
    "            result *= (x + 1)\n",
    "        return result\n",
    "\n",
    "fact_rec(3)\n",
    "fact_rec(10)"
   ]
  },
  {
   "cell_type": "markdown",
   "metadata": {},
   "source": [
    "Performance Vergleich"
   ]
  },
  {
   "cell_type": "code",
   "execution_count": 28,
   "metadata": {},
   "outputs": [
    {
     "name": "stdout",
     "output_type": "stream",
     "text": [
      "rekursiv:\n",
      "[0.08732321299999057, 0.07083593099991958, 0.0610563220000131, 0.06374346100005823, 0.06304816900001242]\n",
      "iterativ:\n",
      "[0.006570930999941993, 0.010049832000049719, 0.008909958000003826, 0.006896508999943762, 0.006427922999819202]\n"
     ]
    }
   ],
   "source": [
    "import timeit\n",
    "t1=timeit.repeat(\"fact_rec(500)\", \"from __main__ import fact_rec\", number=100)\n",
    "t2=timeit.repeat(\"fact_loop(500)\", \"from __main__ import fact_loop\", number=100)\n",
    "print('rekursiv:')\n",
    "print(t1)\n",
    "print('iterativ:')\n",
    "print(t2)"
   ]
  },
  {
   "cell_type": "markdown",
   "metadata": {},
   "source": [
    "Ich habe zwar keine Ahnung wieso jeweils 5 Zeiten ausgegeben werden aber es sieht so aus als wäre der loop eindeutig schneller. Sogar ca. 10-mal schneller.\n"
   ]
  },
  {
   "cell_type": "markdown",
   "metadata": {},
   "source": [
    "Welche der beiden Funktionen ist schneller und um was für einen Faktor? Weshalb?"
   ]
  },
  {
   "cell_type": "markdown",
   "metadata": {},
   "source": [
    "Die begründung, warum der loop schneller ist weis ich nicht. Aber er ist ca. um den Faktor 10 schneller."
   ]
  },
  {
   "cell_type": "markdown",
   "metadata": {},
   "source": [
    "Gibt es in Python eine obere Grenze für die Fakultät von n?\n",
    " * als ganze Zahl (vom Typ 'integer')? Versuchen Sie hierzu, das Resultat für n ∈ [190, 200] als integer auszugeben.\n",
    " * als reelle Zahl (vom Typ 'float')? Versuchen Sie hierzu, das Resultat für n ∈ [170,171] als foat auszugeben."
   ]
  },
  {
   "cell_type": "markdown",
   "metadata": {},
   "source": []
  },
  {
   "cell_type": "code",
   "execution_count": null,
   "metadata": {},
   "outputs": [],
   "source": []
  }
 ],
 "metadata": {
  "kernelspec": {
   "display_name": "Python 3",
   "language": "python",
   "name": "python3"
  },
  "language_info": {
   "codemirror_mode": {
    "name": "ipython",
    "version": 3
   },
   "file_extension": ".py",
   "mimetype": "text/x-python",
   "name": "python",
   "nbconvert_exporter": "python",
   "pygments_lexer": "ipython3",
   "version": "3.8.3"
  }
 },
 "nbformat": 4,
 "nbformat_minor": 4
}
